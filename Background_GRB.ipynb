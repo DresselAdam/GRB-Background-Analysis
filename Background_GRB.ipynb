{
 "cells": [
  {
   "cell_type": "markdown",
   "metadata": {},
   "source": [
    "# Background GRB Events\n",
    "## Author(s)\n",
    "    Adam Dressel\n",
    "    Lindsey Carboneau\n",
    "## Algorithm\n",
    "\n",
    "\n",
    "1. In the frame where the GRB occurs, estimate the background level. In practice, I find that sorting the pixel values and taking the median of the faintest 20% of them works pretty well, is easy to code, and is fast. Get the standard deviation of the faintest 20% as well.\n",
    "\n",
    "2. Generate a random (RA, Dec) position that's within about a degree (say 180 pixels) of the potential GRB position. There are lots of ways to do that, and there IS a formal solution (I think involving a Gibb's process), but it's probably a LOT easier to just use rejection sampling: that is, generate (RA, Dec) pairs for which both RA and Dec are each no more than 180 pixels away on an individual basis, and then just throw out the ones for whi-ch the Euclidean distance is more than 180 pixels.\n",
    "\n",
    "3. Use TESScut to get an image around the point that you generated. You might have to build some error-checking to ensure that the point really was imaged and doesn't lie off the CCD. Actually you WILL have to build some error checking for the general problem, but if your original possible GRB is less than 180 pixels from the edge of the CCD you can get away without it.\n",
    "\n",
    "4. Take the N (2, or 4, or whatever your image size was) pixels closest to your generated position within the TESScut frame, and test to see if there's a bright-ish star in there. You can do that by taking the brightest pixel of the 2/4/whatever and testing to see if its value is less than your background value from step 1 plus something like 1-2-3 times the standard deviation of the background from step 1. I'd try 1 standard deviation first because it's conservative, but if things take too long to run you might have to relax that.\n",
    "\n",
    "5. If your generated position passes the star test, continue. If not, go back to step 2 and repeat.\n",
    "\n",
    "6. Now test to see if there's a GRB-like event in your 4-pixel image. You can do this by making a movie and looking (which will be time-consuming) or finding some cleverer way. One compromise you might try is to make a light curve from your little image and see if there are any large (>6 sigma?) outliers present.\n",
    "\n",
    "7. Now go back to step 2 and repeat, until you have 100 successful tests (successful means that you generated a nominally empty image and searched for a flash, NOT that you found a flash!). That should be enough to give a good sense of the background flash rate in nominally empty images near your original one...\n",
    "\n",
    "    Algorithm by \n",
    "        Dr. Derek Buzasi"
   ]
  },
  {
   "cell_type": "code",
   "execution_count": 13,
   "metadata": {},
   "outputs": [],
   "source": [
    "import numpy as np\n",
    "from astropy.io import fits\n",
    "from zipfile import ZipFile\n",
    "import matplotlib.pyplot as plt\n",
    "import matplotlib.colors as colors\n",
    "import matplotlib.animation as animation\n",
    "from IPython.display import HTML\n",
    "import random\n",
    "import math\n",
    "import requests\n",
    "import re\n",
    "import shutil"
   ]
  },
  {
   "cell_type": "markdown",
   "metadata": {},
   "source": [
    "## Code for opening FITS FILES\n",
    "The following code is re-used from previous python scripts to read FITS files.\n",
    "This code also appends data to arrays to be used for manipulation and visualization."
   ]
  },
  {
   "cell_type": "code",
   "execution_count": 14,
   "metadata": {},
   "outputs": [
    {
     "name": "stdout",
     "output_type": "stream",
     "text": [
      "s0004-2-2\n",
      "1060\n"
     ]
    },
    {
     "data": {
      "image/png": "[encoded data removed]",
      "text/plain": [
       "<Figure size 432x288 with 1 Axes>"
      ]
     },
     "metadata": {},
     "output_type": "display_data"
    }
   ],
   "source": [
    "#function for opening fits file and getting header and pixel data\n",
    "def read_fits_file(target_file):\n",
    "    tess_file = fits.open(target_file)\n",
    "    header_data = tess_file[1].header\n",
    "    check_data = tess_file[1].data\n",
    "    tess_file.close()\n",
    "    # Converts flux values to an array.\n",
    "    pixel_data = np.asarray(check_data)\n",
    "    return (header_data, pixel_data, check_data)\n",
    "\n",
    "input_file ='./Candidate_GRBs/astrocut_56.795_-29.332_20x20px/tess-s0004-2-2_56.795000_-29.332000_20x20_astrocut.fits'\n",
    "# step 1: read in the data\n",
    "\n",
    "header, pixels, check = read_fits_file(input_file)\n",
    "\n",
    "# Sector, camera and ccd value for fits file\n",
    "sec_data = re.findall('s\\d\\d\\d\\d-\\d-\\d',input_file)[0]\n",
    "print(sec_data)\n",
    "\n",
    "#THe flux values of the GRB frame\n",
    "GRB_frame = np.stack(pixels['FLUX'][512])\n",
    "GRB_post_flash = np.stack(pixels['FLUX'][513])\n",
    "GRB_pre_flash = np.stack(pixels['FLUX'][161])\n",
    "plt.imshow(GRB_post_flash)\n",
    "print(len(pixels['FLUX']))"
   ]
  },
  {
   "cell_type": "code",
   "execution_count": 15,
   "metadata": {},
   "outputs": [
    {
     "data": {
      "text/plain": [
       "<matplotlib.image.AxesImage at 0x7f97a8de8f60>"
      ]
     },
     "execution_count": 15,
     "metadata": {},
     "output_type": "execute_result"
    },
    {
     "data": {
      "image/png": "[encoded data removed]",
      "text/plain": [
       "<Figure size 432x288 with 1 Axes>"
      ]
     },
     "metadata": {},
     "output_type": "display_data"
    }
   ],
   "source": [
    "plt.imshow(GRB_frame)"
   ]
  },
  {
   "cell_type": "markdown",
   "metadata": {},
   "source": [
    "## 1. Estimating Background Level\n",
    "    In the previous cell we found the frame where the possible GRB occurs in this file.\n",
    "    Since this particular file is a 20x20, we sort the 400 pixels and then take the lowest 20%, or first 80 values. We then find the median for these values"
   ]
  },
  {
   "cell_type": "code",
   "execution_count": 16,
   "metadata": {},
   "outputs": [
    {
     "name": "stdout",
     "output_type": "stream",
     "text": [
      "83.507286\n",
      "0.43479005\n"
     ]
    }
   ],
   "source": [
    "# Reshape flux values for pixels at GRB frame\n",
    "GRB_frame_list = GRB_frame.reshape(400)\n",
    "GRB_frame_list.sort()\n",
    "\n",
    "# Get the faintest 20% of pixels\n",
    "faint_pix = GRB_frame_list[0:80]\n",
    "\n",
    "bkgnd_median = np.median(faint_pix)\n",
    "bkgnd_std = np.std(faint_pix)\n",
    "print(bkgnd_median + bkgnd_std)\n",
    "print(bkgnd_std)"
   ]
  },
  {
   "cell_type": "markdown",
   "metadata": {},
   "source": [
    "## 2. Generating Random RA and Dec\n",
    "    After finding the median and standard deviation, we then generate random Right Ascension and Declination coordinates. We test these values by ensuring the Euclidiean distance between the original and random coordinate is less than 1.\n"
   ]
  },
  {
   "cell_type": "code",
   "execution_count": 123,
   "metadata": {},
   "outputs": [
    {
     "name": "stdout",
     "output_type": "stream",
     "text": [
      "57.483108\n",
      "-29.006565\n",
      "0.7611836564778577\n"
     ]
    }
   ],
   "source": [
    "#RA and Dec of current target\n",
    "RA = 56.795\n",
    "Dec = -29.332\n",
    "\n",
    "# Generate random RA and Dec +-1 from the target RA and Dec\n",
    "rand_RA = round(random.triangular(RA - 1, RA + 1),6)\n",
    "rand_Dec = round(random.triangular(Dec - 1, Dec + 1),6)\n",
    "\n",
    "\n",
    "print(rand_RA)\n",
    "print(rand_Dec)\n",
    "\n",
    "#Calculate distance of random point to target point\n",
    "euc_distance = math.sqrt(math.pow((RA-rand_RA),2) + math.pow(Dec-rand_Dec,2))\n",
    "print(euc_distance)"
   ]
  },
  {
   "cell_type": "code",
   "execution_count": 124,
   "metadata": {},
   "outputs": [
    {
     "name": "stdout",
     "output_type": "stream",
     "text": [
      "57.483108\n",
      "-29.006565\n"
     ]
    }
   ],
   "source": [
    "# Formatting our rand RA and Dec to the same precision as the files given by TESScut.\n",
    "rand_RA = '{:.6f}'.format(float(rand_RA))\n",
    "rand_Dec = '{:6f}'.format(float(rand_Dec))\n",
    "print(rand_RA)\n",
    "print(rand_Dec)\n",
    "\n",
    "#Converting RA and Dec to strings for use in file paths\n",
    "RA = str(RA)\n",
    "Dec = str(Dec)"
   ]
  },
  {
   "cell_type": "markdown",
   "metadata": {},
   "source": [
    "## 3. Calling TESScut API\n",
    "    Using the RA and Dec we generated in the previous cell, we get an image of this coordinate with the TESScut api. We also download the zip file and place it in a folder called Background Tests."
   ]
  },
  {
   "cell_type": "code",
   "execution_count": 125,
   "metadata": {},
   "outputs": [
    {
     "name": "stdout",
     "output_type": "stream",
     "text": [
      "this is the ra and dec: (57.483108,-29.006565)\n"
     ]
    },
    {
     "data": {
      "text/plain": [
       "bytes"
      ]
     },
     "execution_count": 125,
     "metadata": {},
     "output_type": "execute_result"
    }
   ],
   "source": [
    "#Get Tesscut fits of the random point generated\n",
    "\n",
    "rand_ra_str = str(rand_RA)\n",
    "rand_dec_str = str(rand_Dec)\n",
    "\n",
    "print('this is the ra and dec: ({0},{1})'.format(rand_ra_str,rand_dec_str))\n",
    "r = requests.get('https://mast.stsci.edu/tesscut/api/v0.1/astrocut?ra=%s&dec=%s&y=20&x=20'%(rand_ra_str,rand_dec_str),allow_redirects=True)\n",
    "r.status_code\n",
    "\n",
    "tess_cutout = r.content\n",
    "type(tess_cutout)"
   ]
  },
  {
   "cell_type": "code",
   "execution_count": 126,
   "metadata": {},
   "outputs": [],
   "source": [
    "tess_file = open(\"./Background_Zips_%s_%s/tess%s_%s.zip\"%(RA, Dec, rand_ra_str,rand_dec_str), \"wb\")\n",
    "tess_file.write(tess_cutout)\n",
    "tess_file.close()\n",
    "\n",
    "with ZipFile('./Background_Zips_%s_%s/tess%s_%s.zip'%(RA, Dec, rand_ra_str,rand_dec_str), 'r') as zip:\n",
    "    zip.extractall(path='./Background_Cutouts_56.795_-29.332')"
   ]
  },
  {
   "cell_type": "markdown",
   "metadata": {},
   "source": [
    "## 4a. Reading new FITS file.\n",
    "    In this step we repeat the process of the original input file by reading the fits file downloaded from TESScut.\n",
    "    \n",
    "    To automate making the mask, I take the header which contains metadata about the file, and extract the reference pixels. These are the pixels that correspond to the RA and Dec requested from TESScut.\n",
    "    \n",
    "    Here we cover most bases to ensure we have our desired fits file. Then we obtain our reference pixels from the header file.\n",
    "    \n",
    "    *******NOTE*********\n",
    "    TESSCut sometimes varies the dimensions of the cutout. Often offsetting the requested dimensions by one or two pixels.\n"
   ]
  },
  {
   "cell_type": "code",
   "execution_count": null,
   "metadata": {},
   "outputs": [],
   "source": []
  },
  {
   "cell_type": "code",
   "execution_count": 128,
   "metadata": {},
   "outputs": [
    {
     "name": "stdout",
     "output_type": "stream",
     "text": [
      "['14.7', '14.7', '11.402826125045', '11.466763959192', '57.483108', '29.006565', '1.0', '1.0', '0.0052671042280025', '0.0022484185313952', '0.002348123869808', '0.0052918321956438', '1.0', '1.0', '14.7', '11.402826125045', '11.466763959192', '57.483108', '29.006565', '1.0', '1.0', '0.0052671042280025', '0.0022484185313952', '0.002348123869808', '0.0052918321956438', '1.0', '1.0', '14.7', '11.402826125045', '11.466763959192', '57.483108', '29.006565', '1.0', '1.0', '0.0052671042280025', '0.0022484185313952', '0.002348123869808', '0.0052918321956438', '1.0', '1.0', '14.7', '11.402826125045', '11.466763959192', '57.483108', '29.006565', '1.0', '1.0', '0.0052671042280025', '0.0022484185313952', '0.002348123869808', '0.0052918321956438', '1.0', '1.0', '14.7', '11.402826125045', '11.466763959192', '57.483108', '29.006565', '1.0', '1.0', '0.0052671042280025', '0.0022484185313952', '0.002348123869808', '0.0052918321956438', '1.0', '1.0', '16.16', '14.7', '14.7', '0.0', '0.5', '1.0', '2.0', '1.0', '0.7919999957084656', '0.01649999618530273', '2.0', '5.21999979019165', '5.28000020980835', '5.320000171661377', '5.21999979019165', '1.980000019073486', '0.01649999618530273', '10.07459926605225', '7.761600494384766', '7.660800457000732', '9.448199272155762', '0.01999999955296516', '1.16000001071370', '0.02083333395421505', '0.5', '0.5', '1.0', '1410.917241951712', '1436.833902272608', '40.521', '39.972', '0.5', '1.0', '2000.0', '57.483108', '29.006565', '0.0', '25.91666032089597', '0.0', '0.0', '0.0', '0.0', '0.0', '0.0', '0.0', '0.0']\n",
      "10 10\n"
     ]
    }
   ],
   "source": [
    "input_file ='./Background_Cutouts_{3}_{4}/tess-{2}_{0}_{1}_21x21_astrocut.fits'.format(rand_ra_str, rand_dec_str, sec_data, RA, Dec)\n",
    "header, pixels, check = read_fits_file(input_file)\n",
    "\n",
    "rand_img = np.stack(pixels['FLUX'][0])\n",
    "pix_head = str(header)\n",
    "ref_pix = re.findall(\"\\d+\\.\\d+\", pix_head)\n",
    "print(ref_pix)\n",
    "# Reference pixel coordinates. The x and y values are flipped. Also, fits coordinates start at 1, and python starts at 0.\n",
    "# A subtraction of 1 is needed to convert into python coordinates\n",
    "\n",
    "ref_pix_y = round(float(ref_pix[2]) - 1)\n",
    "\n",
    "ref_pix_x = round(float(ref_pix[3]) - 1)\n",
    "\n",
    "print(ref_pix_y,ref_pix_x)"
   ]
  },
  {
   "cell_type": "markdown",
   "metadata": {},
   "source": [
    "## 4b. Creating mask size N\n",
    "    Once we have our reference pixel we create a 2x2 mask to test if there is a star in the area.\n",
    "    We take the 4 pixels including and around the reference pixel and find the brightest flux value in the mask.\n",
    "    We then compare this flux value with the median calculated from the initial file in the first step.\n",
    "## 5. Comparing mask to background median    \n",
    "    If the area is brighter than the initial median than we can conclude that there is most likely a star in this area and repeat the process from steps 2-4."
   ]
  },
  {
   "cell_type": "code",
   "execution_count": 129,
   "metadata": {
    "scrolled": true
   },
   "outputs": [
    {
     "name": "stdout",
     "output_type": "stream",
     "text": [
      "84.986115\n",
      "84.37686464190483\n",
      "Fail\n"
     ]
    },
    {
     "data": {
      "text/plain": [
       "<matplotlib.image.AxesImage at 0x7f97a80e8f98>"
      ]
     },
     "execution_count": 129,
     "metadata": {},
     "output_type": "execute_result"
    },
    {
     "data": {
      "image/png": "[encoded data removed]",
      "text/plain": [
       "<Figure size 432x288 with 1 Axes>"
      ]
     },
     "metadata": {},
     "output_type": "display_data"
    }
   ],
   "source": [
    "full_mask_med = []\n",
    "full_mask_max = []\n",
    "\n",
    "for cadence in range(len(pixels['FLUX'])):\n",
    "    temp_mask = []\n",
    "    rand_img = np.stack(pixels['FLUX'][cadence])\n",
    "    \n",
    "    center_pix = rand_img[ref_pix_y][ref_pix_x]\n",
    "    right_pix = rand_img[ref_pix_y - 1][ref_pix_x]\n",
    "    upper_pix = rand_img[ref_pix_y][ref_pix_x - 1]\n",
    "    left_pix = rand_img[ref_pix_y - 1][ref_pix_x - 1]\n",
    "    \n",
    "    temp_mask.append(center_pix)\n",
    "    temp_mask.append(right_pix)\n",
    "    temp_mask.append(upper_pix)\n",
    "    temp_mask.append(left_pix)\n",
    "    full_mask_max.append(np.max(temp_mask))\n",
    "    full_mask_med.append(np.median(temp_mask))\n",
    "\n",
    "print(np.median(full_mask_max))\n",
    "print(bkgnd_median + (3 * bkgnd_std))\n",
    "\n",
    "if np.median(full_mask_max) > bkgnd_median + (3 * bkgnd_std):\n",
    "    print(\"Fail\")\n",
    "else:\n",
    "    print(\"Pass\")\n",
    "plt.imshow(rand_img)"
   ]
  },
  {
   "cell_type": "markdown",
   "metadata": {},
   "source": [
    "## 6. Using visualization to look for a GRB-like event\n",
    "    The following code creates a visualization of the Tess cutout. We observe this movie looking for a flash near our reference pixel.\n",
    "    \n",
    "    @author Lindsey Carboneau"
   ]
  },
  {
   "cell_type": "code",
   "execution_count": null,
   "metadata": {},
   "outputs": [],
   "source": [
    "\n",
    "'''\n",
    "# step 1: read in the data\n",
    "def getFITSdata(tessfile):\n",
    "    fitsfile = fits.open(tessfile)\n",
    "    headerdata = fitsfile[0].header\n",
    "    checkdata = fitsfile[1].data\n",
    "    fitsfile.close()\n",
    "    pixeldata = np.asarray(checkdata)\n",
    "    return (headerdata, pixeldata, checkdata)\n",
    "\n",
    "header, pixels, check = getFITSdata(inputfile)\n",
    "'''\n",
    "\n",
    "fig, ax = plt.subplots(1, 2, figsize=(9, 4))\n",
    "fig.suptitle('{0}, {1},{2} GRB'.format(sec_data, rand_ra_str, rand_dec_str), fontsize=20)\n",
    "\n",
    "ax_im = ax[0]\n",
    "#ax_diff = ax[1]\n",
    "\n",
    "Z = np.stack(pixels['FLUX'][0])\n",
    "im_im = ax_im.imshow(Z, norm=colors.LogNorm(vmin=Z.min(), vmax=Z.max()),\n",
    "                   cmap='viridis', animated=True)\n",
    "#im_diff = ax_diff.imshow(Z, norm=colors.LogNorm(vmin=Z.min(), vmax=Z.max()),\n",
    "                   #cmap='viridis', animated=True)\n",
    "\n",
    "ax_im.set_title('Raw Flux from FFI - LogNorm')\n",
    "#ax_diff.set_title('Diff Flux: Changes - LogNorm')\n",
    "ax_im.set_yticklabels([])\n",
    "ax_im.set_xticklabels([])\n",
    "#ax_diff.set_yticklabels([])\n",
    "#ax_diff.set_xticklabels([])\n",
    "\n",
    "def updatefig(idx):\n",
    "    image0 = np.stack(pixels['FLUX'][idx])\n",
    "    try:\n",
    "        imageN = np.stack(pixels['FLUX'][idx + 1])\n",
    "    except IndexError:\n",
    "        imageN = np.stack(pixels['FLUX'][idx])\n",
    "    except Exception as ex:\n",
    "        print('There was a different problem: ' + str(ex))\n",
    "        \n",
    "    im_im.set_array(image0)\n",
    "    \n",
    "    #im_diff.set_array(np.subtract(imageN, image0))\n",
    "    \n",
    "    return im_im, \n",
    "\n",
    "ani = animation.FuncAnimation(fig, updatefig, frames=len(pixels), blit=True, repeat=True, interval=400)\n",
    "plt.close(fig)\n",
    "HTML(ani.to_html5_video())"
   ]
  },
  {
   "cell_type": "code",
   "execution_count": 120,
   "metadata": {},
   "outputs": [
    {
     "data": {
      "text/plain": [
       "'./GRB-Movies_56.795_-29.332/57.009785,-29.756826_visual.mp4'"
      ]
     },
     "execution_count": 120,
     "metadata": {},
     "output_type": "execute_result"
    }
   ],
   "source": [
    "ani.save('{0},{1}_visual.mp4'.format(rand_ra_str,rand_dec_str))\n",
    "shutil.move('./{0},{1}_visual.mp4'.format(rand_ra_str,rand_dec_str), './GRB-Movies_{2}_{3}/{0},{1}_visual.mp4'.format(rand_ra_str,rand_dec_str, RA, Dec))"
   ]
  },
  {
   "cell_type": "code",
   "execution_count": 121,
   "metadata": {},
   "outputs": [
    {
     "name": "stdout",
     "output_type": "stream",
     "text": [
      "16\n"
     ]
    }
   ],
   "source": [
    "test_count = 1\n",
    "with open(\"results_56.795_-29.332.txt\", 'r') as result:\n",
    "    for line in result:\n",
    "        test_count += 1\n",
    "print(test_count)"
   ]
  },
  {
   "cell_type": "code",
   "execution_count": 122,
   "metadata": {},
   "outputs": [],
   "source": [
    "flash_result = 'No Flash'\n",
    "results = open(\"results_56.795_-29.332.txt\", 'a')\n",
    "results.write(\"({0}) {1}, {2} - {3}\\n\".format(test_count,rand_ra_str, rand_dec_str, flash_result))\n",
    "results.close()"
   ]
  },
  {
   "cell_type": "code",
   "execution_count": null,
   "metadata": {},
   "outputs": [],
   "source": []
  }
 ],
 "metadata": {
  "kernelspec": {
   "display_name": "Python 3",
   "language": "python",
   "name": "python3"
  },
  "language_info": {
   "codemirror_mode": {
    "name": "ipython",
    "version": 3
   },
   "file_extension": ".py",
   "mimetype": "text/x-python",
   "name": "python",
   "nbconvert_exporter": "python",
   "pygments_lexer": "ipython3",
   "version": "3.6.9"
  }
 },
 "nbformat": 4,
 "nbformat_minor": 2
}
